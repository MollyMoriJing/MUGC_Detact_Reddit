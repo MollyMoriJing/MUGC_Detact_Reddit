{
 "cells": [
  {
   "cell_type": "code",
   "execution_count": 1,
   "metadata": {},
   "outputs": [
    {
     "name": "stderr",
     "output_type": "stream",
     "text": [
      "/opt/homebrew/lib/python3.11/site-packages/tqdm/auto.py:21: TqdmWarning: IProgress not found. Please update jupyter and ipywidgets. See https://ipywidgets.readthedocs.io/en/stable/user_install.html\n",
      "  from .autonotebook import tqdm as notebook_tqdm\n"
     ]
    }
   ],
   "source": [
    "import pandas as pd\n",
    "from datasets import load_dataset\n",
    "from sklearn.model_selection import train_test_split\n",
    "import nltk\n",
    "import re\n",
    "from nltk.corpus import stopwords\n",
    "import itertools\n"
   ]
  },
  {
   "cell_type": "code",
   "execution_count": null,
   "metadata": {},
   "outputs": [],
   "source": []
  },
  {
   "cell_type": "code",
   "execution_count": 2,
   "metadata": {},
   "outputs": [
    {
     "data": {
      "text/html": [
       "<div>\n",
       "<style scoped>\n",
       "    .dataframe tbody tr th:only-of-type {\n",
       "        vertical-align: middle;\n",
       "    }\n",
       "\n",
       "    .dataframe tbody tr th {\n",
       "        vertical-align: top;\n",
       "    }\n",
       "\n",
       "    .dataframe thead th {\n",
       "        text-align: right;\n",
       "    }\n",
       "</style>\n",
       "<table border=\"1\" class=\"dataframe\">\n",
       "  <thead>\n",
       "    <tr style=\"text-align: right;\">\n",
       "      <th></th>\n",
       "      <th>id</th>\n",
       "      <th>question</th>\n",
       "      <th>human_answers</th>\n",
       "      <th>chatgpt_answers</th>\n",
       "      <th>source</th>\n",
       "    </tr>\n",
       "  </thead>\n",
       "  <tbody>\n",
       "    <tr>\n",
       "      <th>0</th>\n",
       "      <td>0</td>\n",
       "      <td>Why is every book I hear about a \" NY Times # ...</td>\n",
       "      <td>[Basically there are many categories of \" Best...</td>\n",
       "      <td>[There are many different best seller lists th...</td>\n",
       "      <td>reddit_eli5</td>\n",
       "    </tr>\n",
       "    <tr>\n",
       "      <th>1</th>\n",
       "      <td>1</td>\n",
       "      <td>If salt is so bad for cars , why do we use it ...</td>\n",
       "      <td>[salt is good for not dying in car crashes and...</td>\n",
       "      <td>[Salt is used on roads to help melt ice and sn...</td>\n",
       "      <td>reddit_eli5</td>\n",
       "    </tr>\n",
       "    <tr>\n",
       "      <th>2</th>\n",
       "      <td>2</td>\n",
       "      <td>Why do we still have SD TV channels when HD lo...</td>\n",
       "      <td>[The way it works is that old TV stations got ...</td>\n",
       "      <td>[There are a few reasons why we still have SD ...</td>\n",
       "      <td>reddit_eli5</td>\n",
       "    </tr>\n",
       "    <tr>\n",
       "      <th>3</th>\n",
       "      <td>3</td>\n",
       "      <td>Why has nobody assassinated Kim Jong - un He i...</td>\n",
       "      <td>[You ca n't just go around assassinating the l...</td>\n",
       "      <td>[It is generally not acceptable or ethical to ...</td>\n",
       "      <td>reddit_eli5</td>\n",
       "    </tr>\n",
       "    <tr>\n",
       "      <th>4</th>\n",
       "      <td>4</td>\n",
       "      <td>How was airplane technology able to advance so...</td>\n",
       "      <td>[Wanting to kill the shit out of Germans drive...</td>\n",
       "      <td>[After the Wright Brothers made the first powe...</td>\n",
       "      <td>reddit_eli5</td>\n",
       "    </tr>\n",
       "  </tbody>\n",
       "</table>\n",
       "</div>"
      ],
      "text/plain": [
       "  id                                           question  \\\n",
       "0  0  Why is every book I hear about a \" NY Times # ...   \n",
       "1  1  If salt is so bad for cars , why do we use it ...   \n",
       "2  2  Why do we still have SD TV channels when HD lo...   \n",
       "3  3  Why has nobody assassinated Kim Jong - un He i...   \n",
       "4  4  How was airplane technology able to advance so...   \n",
       "\n",
       "                                       human_answers  \\\n",
       "0  [Basically there are many categories of \" Best...   \n",
       "1  [salt is good for not dying in car crashes and...   \n",
       "2  [The way it works is that old TV stations got ...   \n",
       "3  [You ca n't just go around assassinating the l...   \n",
       "4  [Wanting to kill the shit out of Germans drive...   \n",
       "\n",
       "                                     chatgpt_answers       source  \n",
       "0  [There are many different best seller lists th...  reddit_eli5  \n",
       "1  [Salt is used on roads to help melt ice and sn...  reddit_eli5  \n",
       "2  [There are a few reasons why we still have SD ...  reddit_eli5  \n",
       "3  [It is generally not acceptable or ethical to ...  reddit_eli5  \n",
       "4  [After the Wright Brothers made the first powe...  reddit_eli5  "
      ]
     },
     "execution_count": 2,
     "metadata": {},
     "output_type": "execute_result"
    }
   ],
   "source": [
    "#get the dataset from Hello-SimpleAI/HC3\n",
    "dataset = load_dataset(\"Hello-SimpleAI/HC3\", \"all\")\n",
    "df = pd.DataFrame(dataset[\"train\"])\n",
    "\n",
    "#take a look at the dataset\n",
    "df.head()\n"
   ]
  },
  {
   "cell_type": "code",
   "execution_count": 3,
   "metadata": {},
   "outputs": [
    {
     "data": {
      "text/html": [
       "<div>\n",
       "<style scoped>\n",
       "    .dataframe tbody tr th:only-of-type {\n",
       "        vertical-align: middle;\n",
       "    }\n",
       "\n",
       "    .dataframe tbody tr th {\n",
       "        vertical-align: top;\n",
       "    }\n",
       "\n",
       "    .dataframe thead th {\n",
       "        text-align: right;\n",
       "    }\n",
       "</style>\n",
       "<table border=\"1\" class=\"dataframe\">\n",
       "  <thead>\n",
       "    <tr style=\"text-align: right;\">\n",
       "      <th></th>\n",
       "      <th>text</th>\n",
       "      <th>classification</th>\n",
       "    </tr>\n",
       "  </thead>\n",
       "  <tbody>\n",
       "    <tr>\n",
       "      <th>0</th>\n",
       "      <td>[Basically there are many categories of \" Best...</td>\n",
       "      <td>1</td>\n",
       "    </tr>\n",
       "    <tr>\n",
       "      <th>1</th>\n",
       "      <td>[salt is good for not dying in car crashes and...</td>\n",
       "      <td>1</td>\n",
       "    </tr>\n",
       "    <tr>\n",
       "      <th>2</th>\n",
       "      <td>[The way it works is that old TV stations got ...</td>\n",
       "      <td>1</td>\n",
       "    </tr>\n",
       "    <tr>\n",
       "      <th>3</th>\n",
       "      <td>[You ca n't just go around assassinating the l...</td>\n",
       "      <td>1</td>\n",
       "    </tr>\n",
       "    <tr>\n",
       "      <th>4</th>\n",
       "      <td>[Wanting to kill the shit out of Germans drive...</td>\n",
       "      <td>1</td>\n",
       "    </tr>\n",
       "  </tbody>\n",
       "</table>\n",
       "</div>"
      ],
      "text/plain": [
       "                                                text  classification\n",
       "0  [Basically there are many categories of \" Best...               1\n",
       "1  [salt is good for not dying in car crashes and...               1\n",
       "2  [The way it works is that old TV stations got ...               1\n",
       "3  [You ca n't just go around assassinating the l...               1\n",
       "4  [Wanting to kill the shit out of Germans drive...               1"
      ]
     },
     "execution_count": 3,
     "metadata": {},
     "output_type": "execute_result"
    }
   ],
   "source": [
    "#Combine the human answers and chatgpt answers into one column\n",
    "df = df.melt(value_vars=[\"human_answers\", \"chatgpt_answers\"], var_name=\"original_column\", value_name=\"text\")\n",
    "\n",
    "#classify the human answers as 1 and the chatgpt answers as 0\n",
    "df['classification'] = df['original_column'].apply(lambda x: 1 if x == 'human_answers' else 0)\n",
    "\n",
    "#drop the original column\n",
    "df = df.drop(columns=['original_column']).reset_index(drop=True)\n",
    "\n",
    "#take a look at the dataset\n",
    "df.head()\n",
    "\n"
   ]
  },
  {
   "cell_type": "code",
   "execution_count": 4,
   "metadata": {},
   "outputs": [
    {
     "data": {
      "text/plain": [
       "(48644, 2)"
      ]
     },
     "execution_count": 4,
     "metadata": {},
     "output_type": "execute_result"
    }
   ],
   "source": [
    "#get the summary of the dataset\n",
    "df.shape"
   ]
  },
  {
   "cell_type": "code",
   "execution_count": 5,
   "metadata": {},
   "outputs": [
    {
     "name": "stdout",
     "output_type": "stream",
     "text": [
      "<class 'pandas.core.frame.DataFrame'>\n",
      "RangeIndex: 48644 entries, 0 to 48643\n",
      "Data columns (total 2 columns):\n",
      " #   Column          Non-Null Count  Dtype \n",
      "---  ------          --------------  ----- \n",
      " 0   text            48644 non-null  object\n",
      " 1   classification  48644 non-null  int64 \n",
      "dtypes: int64(1), object(1)\n",
      "memory usage: 760.2+ KB\n"
     ]
    }
   ],
   "source": [
    "df.info()"
   ]
  },
  {
   "cell_type": "code",
   "execution_count": 6,
   "metadata": {},
   "outputs": [
    {
     "name": "stdout",
     "output_type": "stream",
     "text": [
      "                                                text  classification\n",
      "0  Basically there are many categories of \" Best ...               1\n",
      "1  salt is good for not dying in car crashes and ...               1\n",
      "2  The way it works is that old TV stations got a...               1\n",
      "3  You ca n't just go around assassinating the le...               1\n",
      "4  Wanting to kill the shit out of Germans drives...               1\n",
      "                                                text  classification  \\\n",
      "0  Basically there are many categories of \" Best ...               1   \n",
      "1  salt is good for not dying in car crashes and ...               1   \n",
      "2  The way it works is that old TV stations got a...               1   \n",
      "3  You ca n't just go around assassinating the le...               1   \n",
      "4  Wanting to kill the shit out of Germans drives...               1   \n",
      "\n",
      "   word_count  \n",
      "0        1225  \n",
      "1        2080  \n",
      "2        2458  \n",
      "3        1030  \n",
      "4        1507  \n",
      "Total number of words in the text column: 67074390\n"
     ]
    }
   ],
   "source": [
    "\n",
    "df['text'] = df['text'].apply(lambda x: ' '.join(x) if isinstance(x, list) else x)\n",
    "\n",
    "print(df.head())\n",
    "\n",
    "df['word_count'] = df['text'].apply(lambda x: len(str(x)) if isinstance(x, str) else 0)\n",
    "\n",
    "print(df.head())\n",
    "\n",
    "total_words = df['word_count'].sum()\n",
    "\n",
    "print(f\"Total number of words in the text column: {total_words}\")\n",
    "\n",
    "\n"
   ]
  },
  {
   "cell_type": "code",
   "execution_count": 7,
   "metadata": {},
   "outputs": [
    {
     "name": "stdout",
     "output_type": "stream",
     "text": [
      "                                                text  classification  \\\n",
      "0  basically there are many categories of best se...               1   \n",
      "1  salt is good for not dying in car crashes and ...               1   \n",
      "2  the way it works is that old tv stations got a...               1   \n",
      "3  you ca n t just go around assassinating the le...               1   \n",
      "4  wanting to kill the shit out of germans drives...               1   \n",
      "\n",
      "   word_count  \n",
      "0        1225  \n",
      "1        2080  \n",
      "2        2458  \n",
      "3        1030  \n",
      "4        1507  \n"
     ]
    }
   ],
   "source": [
    "#find all the non-words characters and convert them to space, also convert all the text to lower case\n",
    "df['text'] = df['text'].apply(lambda x: re.sub(r'\\W+', ' ', x.lower()))\n",
    "print(df.head())"
   ]
  },
  {
   "cell_type": "code",
   "execution_count": 8,
   "metadata": {},
   "outputs": [
    {
     "name": "stderr",
     "output_type": "stream",
     "text": [
      "[nltk_data] Downloading package stopwords to\n",
      "[nltk_data]     /Users/carollu/nltk_data...\n",
      "[nltk_data]   Package stopwords is already up-to-date!\n"
     ]
    },
    {
     "data": {
      "text/plain": [
       "True"
      ]
     },
     "execution_count": 8,
     "metadata": {},
     "output_type": "execute_result"
    }
   ],
   "source": [
    "\n",
    "nltk.download('stopwords')"
   ]
  },
  {
   "cell_type": "code",
   "execution_count": 9,
   "metadata": {},
   "outputs": [],
   "source": [
    "all_stopwords = set(stopwords.words('english')) # set the language "
   ]
  },
  {
   "cell_type": "code",
   "execution_count": 10,
   "metadata": {},
   "outputs": [
    {
     "name": "stdout",
     "output_type": "stream",
     "text": [
      "Total number of words in the text column: 42607048\n"
     ]
    },
    {
     "data": {
      "text/html": [
       "<div>\n",
       "<style scoped>\n",
       "    .dataframe tbody tr th:only-of-type {\n",
       "        vertical-align: middle;\n",
       "    }\n",
       "\n",
       "    .dataframe tbody tr th {\n",
       "        vertical-align: top;\n",
       "    }\n",
       "\n",
       "    .dataframe thead th {\n",
       "        text-align: right;\n",
       "    }\n",
       "</style>\n",
       "<table border=\"1\" class=\"dataframe\">\n",
       "  <thead>\n",
       "    <tr style=\"text-align: right;\">\n",
       "      <th></th>\n",
       "      <th>text</th>\n",
       "      <th>classification</th>\n",
       "      <th>word_count</th>\n",
       "    </tr>\n",
       "  </thead>\n",
       "  <tbody>\n",
       "    <tr>\n",
       "      <th>0</th>\n",
       "      <td>basically many categories best seller replace ...</td>\n",
       "      <td>1</td>\n",
       "      <td>761</td>\n",
       "    </tr>\n",
       "    <tr>\n",
       "      <th>1</th>\n",
       "      <td>salt good dying car crashes car crashes worse ...</td>\n",
       "      <td>1</td>\n",
       "      <td>1309</td>\n",
       "    </tr>\n",
       "    <tr>\n",
       "      <th>2</th>\n",
       "      <td>way works old tv stations got certain amount b...</td>\n",
       "      <td>1</td>\n",
       "      <td>1713</td>\n",
       "    </tr>\n",
       "    <tr>\n",
       "      <th>3</th>\n",
       "      <td>ca n go around assassinating leaders countries...</td>\n",
       "      <td>1</td>\n",
       "      <td>692</td>\n",
       "    </tr>\n",
       "    <tr>\n",
       "      <th>4</th>\n",
       "      <td>wanting kill shit germans drives innovation fr...</td>\n",
       "      <td>1</td>\n",
       "      <td>979</td>\n",
       "    </tr>\n",
       "  </tbody>\n",
       "</table>\n",
       "</div>"
      ],
      "text/plain": [
       "                                                text  classification  \\\n",
       "0  basically many categories best seller replace ...               1   \n",
       "1  salt good dying car crashes car crashes worse ...               1   \n",
       "2  way works old tv stations got certain amount b...               1   \n",
       "3  ca n go around assassinating leaders countries...               1   \n",
       "4  wanting kill shit germans drives innovation fr...               1   \n",
       "\n",
       "   word_count  \n",
       "0         761  \n",
       "1        1309  \n",
       "2        1713  \n",
       "3         692  \n",
       "4         979  "
      ]
     },
     "execution_count": 10,
     "metadata": {},
     "output_type": "execute_result"
    }
   ],
   "source": [
    "#remove the stopwords from the text\n",
    "df['text'] = df['text'].apply(lambda x: ' '.join([word for word in x.split() if word not in all_stopwords]))\n",
    "\n",
    "df['word_count'] = df['text'].apply(lambda x: len(str(x)) if isinstance(x, str) else 0)\n",
    "\n",
    "total_words = df['word_count'].sum()\n",
    "\n",
    "print(f\"Total number of words in the text column: {total_words}\")\n",
    "\n",
    "df.head()"
   ]
  },
  {
   "cell_type": "code",
   "execution_count": 11,
   "metadata": {},
   "outputs": [],
   "source": [
    "X = df['text']\n",
    "y = df['classification']\n",
    "\n",
    "X_train, X_test, y_train, y_test = train_test_split(X, y, test_size = 0.2, random_state = 42)"
   ]
  }
 ],
 "metadata": {
  "kernelspec": {
   "display_name": "Python 3",
   "language": "python",
   "name": "python3"
  },
  "language_info": {
   "codemirror_mode": {
    "name": "ipython",
    "version": 3
   },
   "file_extension": ".py",
   "mimetype": "text/x-python",
   "name": "python",
   "nbconvert_exporter": "python",
   "pygments_lexer": "ipython3",
   "version": "3.11.11"
  }
 },
 "nbformat": 4,
 "nbformat_minor": 2
}
