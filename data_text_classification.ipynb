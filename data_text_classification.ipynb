{
 "cells": [
  {
   "cell_type": "code",
   "execution_count": 1,
   "metadata": {},
   "outputs": [],
   "source": [
    "%matplotlib inline"
   ]
  },
  {
   "cell_type": "code",
   "execution_count": 2,
   "metadata": {},
   "outputs": [],
   "source": [
    "# Import necessary libraries\n",
    "import pandas as pd\n",
    "from datasets import load_dataset\n",
    "import re\n",
    "import unicodedata\n",
    "import contractions\n",
    "import nltk\n",
    "from collections import Counter\n",
    "from textstat import flesch_reading_ease, syllable_count\n",
    "from textblob import TextBlob\n",
    "from sklearn.feature_extraction.text import TfidfVectorizer\n",
    "from nltk.corpus import stopwords\n",
    "from nltk.stem import WordNetLemmatizer"
   ]
  },
  {
   "cell_type": "code",
   "execution_count": 3,
   "metadata": {},
   "outputs": [
    {
     "name": "stderr",
     "output_type": "stream",
     "text": [
      "[nltk_data] Downloading package punkt to /Users/dj/nltk_data...\n",
      "[nltk_data]   Package punkt is already up-to-date!\n",
      "[nltk_data] Downloading package stopwords to /Users/dj/nltk_data...\n",
      "[nltk_data]   Package stopwords is already up-to-date!\n",
      "[nltk_data] Downloading package wordnet to /Users/dj/nltk_data...\n",
      "[nltk_data]   Package wordnet is already up-to-date!\n"
     ]
    }
   ],
   "source": [
    "# Download necessary NLTK data\n",
    "nltk.download('punkt')\n",
    "nltk.download('stopwords')\n",
    "nltk.download('wordnet')\n",
    "\n",
    "# Initialize NLTK tools\n",
    "lemmatizer = WordNetLemmatizer()\n",
    "stop_words = set(stopwords.words('english'))\n",
    "\n",
    "# Text Cleaning\n",
    "def clean_text(text):\n",
    "    text = unicodedata.normalize(\"NFKD\", text)  # Normalize Unicode\n",
    "    text = contractions.fix(text)  # Expand contractions (e.g., \"don't\" → \"do not\")\n",
    "    text = re.sub(r'[^a-zA-Z.,!?; ]+', '', text)  # Keep only letters & punctuation\n",
    "    text = re.sub(r'\\s+', ' ', text).strip()  # Remove extra spaces\n",
    "    return text.lower()  # Convert to lowercase\n",
    "\n",
    "# Tokenization & Lemmatization\n",
    "def preprocess_text(text):\n",
    "    words = nltk.word_tokenize(text)  # Tokenization\n",
    "    words = [lemmatizer.lemmatize(word) for word in words if word not in stop_words]  # Remove stopwords & lemmatize\n",
    "    return \" \".join(words)"
   ]
  },
  {
   "cell_type": "code",
   "execution_count": 4,
   "metadata": {},
   "outputs": [
    {
     "data": {
      "text/html": [
       "<div>\n",
       "<style scoped>\n",
       "    .dataframe tbody tr th:only-of-type {\n",
       "        vertical-align: middle;\n",
       "    }\n",
       "\n",
       "    .dataframe tbody tr th {\n",
       "        vertical-align: top;\n",
       "    }\n",
       "\n",
       "    .dataframe thead th {\n",
       "        text-align: right;\n",
       "    }\n",
       "</style>\n",
       "<table border=\"1\" class=\"dataframe\">\n",
       "  <thead>\n",
       "    <tr style=\"text-align: right;\">\n",
       "      <th></th>\n",
       "      <th>id</th>\n",
       "      <th>question</th>\n",
       "      <th>human_answers</th>\n",
       "      <th>chatgpt_answers</th>\n",
       "      <th>source</th>\n",
       "    </tr>\n",
       "  </thead>\n",
       "  <tbody>\n",
       "    <tr>\n",
       "      <th>0</th>\n",
       "      <td>0</td>\n",
       "      <td>Why is every book I hear about a \" NY Times # ...</td>\n",
       "      <td>[Basically there are many categories of \" Best...</td>\n",
       "      <td>[There are many different best seller lists th...</td>\n",
       "      <td>reddit_eli5</td>\n",
       "    </tr>\n",
       "    <tr>\n",
       "      <th>1</th>\n",
       "      <td>1</td>\n",
       "      <td>If salt is so bad for cars , why do we use it ...</td>\n",
       "      <td>[salt is good for not dying in car crashes and...</td>\n",
       "      <td>[Salt is used on roads to help melt ice and sn...</td>\n",
       "      <td>reddit_eli5</td>\n",
       "    </tr>\n",
       "    <tr>\n",
       "      <th>2</th>\n",
       "      <td>2</td>\n",
       "      <td>Why do we still have SD TV channels when HD lo...</td>\n",
       "      <td>[The way it works is that old TV stations got ...</td>\n",
       "      <td>[There are a few reasons why we still have SD ...</td>\n",
       "      <td>reddit_eli5</td>\n",
       "    </tr>\n",
       "    <tr>\n",
       "      <th>3</th>\n",
       "      <td>3</td>\n",
       "      <td>Why has nobody assassinated Kim Jong - un He i...</td>\n",
       "      <td>[You ca n't just go around assassinating the l...</td>\n",
       "      <td>[It is generally not acceptable or ethical to ...</td>\n",
       "      <td>reddit_eli5</td>\n",
       "    </tr>\n",
       "    <tr>\n",
       "      <th>4</th>\n",
       "      <td>4</td>\n",
       "      <td>How was airplane technology able to advance so...</td>\n",
       "      <td>[Wanting to kill the shit out of Germans drive...</td>\n",
       "      <td>[After the Wright Brothers made the first powe...</td>\n",
       "      <td>reddit_eli5</td>\n",
       "    </tr>\n",
       "  </tbody>\n",
       "</table>\n",
       "</div>"
      ],
      "text/plain": [
       "  id                                           question  \\\n",
       "0  0  Why is every book I hear about a \" NY Times # ...   \n",
       "1  1  If salt is so bad for cars , why do we use it ...   \n",
       "2  2  Why do we still have SD TV channels when HD lo...   \n",
       "3  3  Why has nobody assassinated Kim Jong - un He i...   \n",
       "4  4  How was airplane technology able to advance so...   \n",
       "\n",
       "                                       human_answers  \\\n",
       "0  [Basically there are many categories of \" Best...   \n",
       "1  [salt is good for not dying in car crashes and...   \n",
       "2  [The way it works is that old TV stations got ...   \n",
       "3  [You ca n't just go around assassinating the l...   \n",
       "4  [Wanting to kill the shit out of Germans drive...   \n",
       "\n",
       "                                     chatgpt_answers       source  \n",
       "0  [There are many different best seller lists th...  reddit_eli5  \n",
       "1  [Salt is used on roads to help melt ice and sn...  reddit_eli5  \n",
       "2  [There are a few reasons why we still have SD ...  reddit_eli5  \n",
       "3  [It is generally not acceptable or ethical to ...  reddit_eli5  \n",
       "4  [After the Wright Brothers made the first powe...  reddit_eli5  "
      ]
     },
     "execution_count": 4,
     "metadata": {},
     "output_type": "execute_result"
    }
   ],
   "source": [
    "# Get the dataset from Hello-SimpleAI/HC3\n",
    "dataset = load_dataset(\"Hello-SimpleAI/HC3\", \"all\")\n",
    "df = pd.DataFrame(dataset[\"train\"])\n",
    "\n",
    "# Take a look at the dataset\n",
    "df.head()"
   ]
  },
  {
   "cell_type": "code",
   "execution_count": 5,
   "metadata": {},
   "outputs": [
    {
     "data": {
      "text/html": [
       "<div>\n",
       "<style scoped>\n",
       "    .dataframe tbody tr th:only-of-type {\n",
       "        vertical-align: middle;\n",
       "    }\n",
       "\n",
       "    .dataframe tbody tr th {\n",
       "        vertical-align: top;\n",
       "    }\n",
       "\n",
       "    .dataframe thead th {\n",
       "        text-align: right;\n",
       "    }\n",
       "</style>\n",
       "<table border=\"1\" class=\"dataframe\">\n",
       "  <thead>\n",
       "    <tr style=\"text-align: right;\">\n",
       "      <th></th>\n",
       "      <th>text</th>\n",
       "      <th>classification</th>\n",
       "    </tr>\n",
       "  </thead>\n",
       "  <tbody>\n",
       "    <tr>\n",
       "      <th>0</th>\n",
       "      <td>[Basically there are many categories of \" Best...</td>\n",
       "      <td>1</td>\n",
       "    </tr>\n",
       "    <tr>\n",
       "      <th>1</th>\n",
       "      <td>[salt is good for not dying in car crashes and...</td>\n",
       "      <td>1</td>\n",
       "    </tr>\n",
       "    <tr>\n",
       "      <th>2</th>\n",
       "      <td>[The way it works is that old TV stations got ...</td>\n",
       "      <td>1</td>\n",
       "    </tr>\n",
       "    <tr>\n",
       "      <th>3</th>\n",
       "      <td>[You ca n't just go around assassinating the l...</td>\n",
       "      <td>1</td>\n",
       "    </tr>\n",
       "    <tr>\n",
       "      <th>4</th>\n",
       "      <td>[Wanting to kill the shit out of Germans drive...</td>\n",
       "      <td>1</td>\n",
       "    </tr>\n",
       "  </tbody>\n",
       "</table>\n",
       "</div>"
      ],
      "text/plain": [
       "                                                text  classification\n",
       "0  [Basically there are many categories of \" Best...               1\n",
       "1  [salt is good for not dying in car crashes and...               1\n",
       "2  [The way it works is that old TV stations got ...               1\n",
       "3  [You ca n't just go around assassinating the l...               1\n",
       "4  [Wanting to kill the shit out of Germans drive...               1"
      ]
     },
     "execution_count": 5,
     "metadata": {},
     "output_type": "execute_result"
    }
   ],
   "source": [
    "# Combine the human answers and chatgpt answers into one column\n",
    "df = df.melt(value_vars=[\"human_answers\", \"chatgpt_answers\"], var_name=\"original_column\", value_name=\"text\")\n",
    "\n",
    "# Classify the human answers as 1 and the chatgpt answers as 0\n",
    "df['classification'] = df['original_column'].apply(lambda x: 1 if x == 'human_answers' else 0)\n",
    "\n",
    "# Drop the original column\n",
    "df = df.drop(columns=['original_column']).reset_index(drop=True)\n",
    "\n",
    "# Take a look at the dataset\n",
    "df.head()"
   ]
  },
  {
   "cell_type": "code",
   "execution_count": 6,
   "metadata": {},
   "outputs": [
    {
     "data": {
      "text/plain": [
       "(48644, 2)"
      ]
     },
     "execution_count": 6,
     "metadata": {},
     "output_type": "execute_result"
    }
   ],
   "source": [
    "# Get the summary of the dataset\n",
    "df.shape"
   ]
  },
  {
   "cell_type": "code",
   "execution_count": 7,
   "metadata": {},
   "outputs": [
    {
     "name": "stdout",
     "output_type": "stream",
     "text": [
      "<class 'pandas.core.frame.DataFrame'>\n",
      "RangeIndex: 48644 entries, 0 to 48643\n",
      "Data columns (total 2 columns):\n",
      " #   Column          Non-Null Count  Dtype \n",
      "---  ------          --------------  ----- \n",
      " 0   text            48644 non-null  object\n",
      " 1   classification  48644 non-null  int64 \n",
      "dtypes: int64(1), object(1)\n",
      "memory usage: 760.2+ KB\n"
     ]
    }
   ],
   "source": [
    "df.info()"
   ]
  },
  {
   "cell_type": "code",
   "execution_count": 8,
   "metadata": {},
   "outputs": [
    {
     "name": "stdout",
     "output_type": "stream",
     "text": [
      "                                                text  classification\n",
      "0  Basically there are many categories of \" Best ...               1\n",
      "1  salt is good for not dying in car crashes and ...               1\n",
      "2  The way it works is that old TV stations got a...               1\n",
      "3  You ca n't just go around assassinating the le...               1\n",
      "4  Wanting to kill the shit out of Germans drives...               1\n"
     ]
    }
   ],
   "source": [
    "# Convert lists to strings\n",
    "df['text'] = df['text'].apply(lambda x: ' '.join(x) if isinstance(x, list) else x)\n",
    "\n",
    "print(df.head())"
   ]
  },
  {
   "cell_type": "code",
   "execution_count": 9,
   "metadata": {},
   "outputs": [
    {
     "name": "stdout",
     "output_type": "stream",
     "text": [
      "After Text Cleaning:\n",
      "                                                text  word_count_cleaned\n",
      "0  basically there are many categories of best se...                 239\n",
      "1  salt is good for not dying in car crashes and ...                 407\n",
      "2  the way it works is that old tv stations got a...                 436\n",
      "3  you ca nt just go around assassinating the lea...                 196\n",
      "4  wanting to kill the shit out of germans drives...                 282\n"
     ]
    }
   ],
   "source": [
    "# Apply text cleaning\n",
    "df[\"text\"] = df[\"text\"].apply(lambda x: clean_text(x) if isinstance(x, str) else x)\n",
    "\n",
    "# Compute word count after text cleaning\n",
    "df[\"word_count_cleaned\"] = df[\"text\"].apply(lambda x: len(str(x).split()) if isinstance(x, str) else 0)\n",
    "\n",
    "# Print dataset with word count after text cleaning\n",
    "print(\"After Text Cleaning:\")\n",
    "print(df[[\"text\", \"word_count_cleaned\"]].head())"
   ]
  },
  {
   "cell_type": "code",
   "execution_count": 10,
   "metadata": {},
   "outputs": [
    {
     "name": "stdout",
     "output_type": "stream",
     "text": [
      "After Tokenization & Lemmatization:\n",
      "                                                text  word_count_lemmatized\n",
      "0  basically many category best seller . replace ...                    142\n",
      "1  salt good dying car crash car crash worse car ...                    233\n",
      "2  way work old tv station got certain amount ban...                    270\n",
      "3  ca nt go around assassinating leader country n...                    122\n",
      "4  wanting kill shit german drive innovation . fr...                    160\n"
     ]
    }
   ],
   "source": [
    "# Apply tokenization & lemmatization\n",
    "df[\"text\"] = df[\"text\"].apply(lambda x: preprocess_text(x) if isinstance(x, str) else x)\n",
    "\n",
    "# Compute word count after tokenization & lemmatization\n",
    "df[\"word_count_lemmatized\"] = df[\"text\"].apply(lambda x: len(str(x).split()) if isinstance(x, str) else 0)\n",
    "\n",
    "# Print dataset with word count after tokenization & lemmatization\n",
    "print(\"After Tokenization & Lemmatization:\")\n",
    "print(df[[\"text\", \"word_count_lemmatized\"]].head())"
   ]
  },
  {
   "cell_type": "code",
   "execution_count": 11,
   "metadata": {},
   "outputs": [],
   "source": [
    "# Extract word count\n",
    "df['word_count'] = df['text'].apply(lambda x: len(str(x).split()) if isinstance(x, str) else 0)\n",
    "\n",
    "# Extract sentence count\n",
    "df[\"sentence_count\"] = df[\"text\"].apply(lambda x: len(nltk.sent_tokenize(x)) if isinstance(x, str) else 0)\n",
    "\n",
    "# Compute average sentence length\n",
    "df[\"avg_sentence_length\"] = df[\"word_count\"] / (df[\"sentence_count\"] + 1)  # Avoid division by zero\n",
    "\n",
    "# Compute punctuation count\n",
    "df[\"punctuation_count\"] = df[\"text\"].apply(lambda x: len(re.findall(r'[.,!?;]', x)) if isinstance(x, str) else 0)\n",
    "\n",
    "# Compute readability score\n",
    "df[\"readability_score\"] = df[\"text\"].apply(lambda x: flesch_reading_ease(x) if isinstance(x, str) else 0)\n",
    "\n",
    "# Compute unique word ratio (use set to remove duplicate)\n",
    "df[\"unique_word_ratio\"] = df[\"text\"].apply(lambda x: len(set(x.split())) / len(x.split()) if isinstance(x, str) and len(x.split()) > 0 else 0)\n",
    "\n",
    "# Compute text complexity\n",
    "df[\"avg_word_length\"] = df[\"text\"].apply(lambda x: sum(len(word) for word in x.split()) / len(x.split()) if isinstance(x, str) and len(x.split()) > 0 else 0)\n",
    "df[\"avg_syllables_per_word\"] = df[\"text\"].apply(lambda x: syllable_count(x) / len(x.split()) if isinstance(x, str) and len(x.split()) > 0 else 0)"
   ]
  },
  {
   "cell_type": "code",
   "execution_count": 12,
   "metadata": {},
   "outputs": [],
   "source": [
    "# Extract n-grams (bigrams & trigrams)\n",
    "def get_ngram_frequencies(text, n=2):\n",
    "    words = text.split()\n",
    "    ngrams = zip(*[words[i:] for i in range(n)])\n",
    "    return Counter(ngrams).most_common(10)\n",
    "\n",
    "df[\"bigrams\"] = df[\"text\"].apply(lambda x: get_ngram_frequencies(x, 2))\n",
    "df[\"trigrams\"] = df[\"text\"].apply(lambda x: get_ngram_frequencies(x, 3))"
   ]
  },
  {
   "cell_type": "code",
   "execution_count": 13,
   "metadata": {},
   "outputs": [],
   "source": [
    "# Compute sentiment analysis\n",
    "df[\"sentiment_polarity\"] = df[\"text\"].apply(lambda x: TextBlob(x).sentiment.polarity if isinstance(x, str) else 0)\n",
    "df[\"sentiment_subjectivity\"] = df[\"text\"].apply(lambda x: TextBlob(x).sentiment.subjectivity if isinstance(x, str) else 0)"
   ]
  },
  {
   "cell_type": "code",
   "execution_count": 14,
   "metadata": {},
   "outputs": [],
   "source": [
    "# Compute TF-IDF Vectorization\n",
    "vectorizer = TfidfVectorizer(max_features=5000)\n",
    "tfidf_features = vectorizer.fit_transform(df[\"text\"]).toarray()"
   ]
  },
  {
   "cell_type": "code",
   "execution_count": 15,
   "metadata": {},
   "outputs": [
    {
     "name": "stdout",
     "output_type": "stream",
     "text": [
      "                                                text  classification  \\\n",
      "0  basically many category best seller . replace ...               1   \n",
      "1  salt good dying car crash car crash worse car ...               1   \n",
      "2  way work old tv station got certain amount ban...               1   \n",
      "3  ca nt go around assassinating leader country n...               1   \n",
      "4  wanting kill shit german drive innovation . fr...               1   \n",
      "\n",
      "   word_count_cleaned  word_count_lemmatized  word_count  sentence_count  \\\n",
      "0                 239                    142         142              13   \n",
      "1                 407                    233         233              22   \n",
      "2                 436                    270         270              15   \n",
      "3                 196                    122         122              11   \n",
      "4                 282                    160         160              11   \n",
      "\n",
      "   avg_sentence_length  punctuation_count  readability_score  \\\n",
      "0            10.142857                 23              62.14   \n",
      "1            10.130435                 41              53.78   \n",
      "2            16.875000                 24              29.45   \n",
      "3            10.166667                 23              35.54   \n",
      "4            13.333333                 28              25.46   \n",
      "\n",
      "   unique_word_ratio  avg_word_length  avg_syllables_per_word  \\\n",
      "0           0.492958         4.556338                1.352113   \n",
      "1           0.596567         4.841202                1.433476   \n",
      "2           0.511111         5.162963                1.748148   \n",
      "3           0.696721         4.934426                1.631148   \n",
      "4           0.681250         5.306250                1.681250   \n",
      "\n",
      "                                             bigrams  \\\n",
      "0  [((best, seller), 7), ((seller, .), 3), ((some...   \n",
      "1  [((yes, ,), 3), ((., salt), 3), ((car, crash),...   \n",
      "2  [((sd, channel), 5), ((sd, station), 3), ((bro...   \n",
      "3  [((., partly), 3), ((north, korea), 2), ((ca, ...   \n",
      "4  [((,, bit), 4), ((,, somebody), 2), ((modern, ...   \n",
      "\n",
      "                                            trigrams  sentiment_polarity  \\\n",
      "0  [((best, seller, .), 3), ((good, well, publici...            0.551929   \n",
      "1  [((., yes, ,), 2), ((salt, good, dying), 1), (...            0.167840   \n",
      "2  [((sd, channel, still), 2), ((way, work, old),...            0.114914   \n",
      "3  [((ca, nt, go), 1), ((nt, go, around), 1), ((g...            0.118137   \n",
      "4  [((wanting, kill, shit), 1), ((kill, shit, ger...            0.050994   \n",
      "\n",
      "   sentiment_subjectivity  \n",
      "0                0.425429  \n",
      "1                0.650000  \n",
      "2                0.389860  \n",
      "3                0.580392  \n",
      "4                0.422064  \n",
      "Total words in dataset: 6957470\n"
     ]
    }
   ],
   "source": [
    "print(df.head())\n",
    "print(f\"Total words in dataset: {df['word_count'].sum()}\")"
   ]
  },
  {
   "cell_type": "markdown",
   "metadata": {},
   "source": [
    "## Initial experimentation"
   ]
  },
  {
   "cell_type": "code",
   "execution_count": 16,
   "metadata": {},
   "outputs": [],
   "source": [
    "from sklearn.model_selection import train_test_split\n",
    "from sklearn.naive_bayes import MultinomialNB\n",
    "from sklearn.metrics import accuracy_score, classification_report\n",
    "import matplotlib.pyplot as plt\n",
    "import seaborn as sns\n",
    "from sklearn.metrics import confusion_matrix, classification_report"
   ]
  },
  {
   "cell_type": "code",
   "execution_count": 17,
   "metadata": {},
   "outputs": [
    {
     "data": {
      "image/png": "[encoded data removed]",
      "text/plain": [
       "<Figure size 600x500 with 2 Axes>"
      ]
     },
     "metadata": {},
     "output_type": "display_data"
    },
    {
     "name": "stdout",
     "output_type": "stream",
     "text": [
      "[[4143  761]\n",
      " [ 458 4367]]\n",
      "              precision    recall  f1-score   support\n",
      "\n",
      "           0       0.90      0.84      0.87      4904\n",
      "           1       0.85      0.91      0.88      4825\n",
      "\n",
      "    accuracy                           0.87      9729\n",
      "   macro avg       0.88      0.87      0.87      9729\n",
      "weighted avg       0.88      0.87      0.87      9729\n",
      "\n"
     ]
    }
   ],
   "source": [
    "# Convert text data to TF-IDF features\n",
    "vectorizer = TfidfVectorizer(max_features=3000, stop_words='english', ngram_range=(1,2))\n",
    "X = vectorizer.fit_transform(df[\"text\"])  # Feature matrix\n",
    "y = df[\"classification\"]  # Labels (1 = Human, 0 = AI)\n",
    "\n",
    "# Split dataset into training and testing sets (80% train, 20% test)\n",
    "X_train, X_test, y_train, y_test = train_test_split(X, y, test_size=0.2, random_state=42)\n",
    "\n",
    "# Initialize and train the Naïve Bayes classifier\n",
    "nb_classifier = MultinomialNB()\n",
    "nb_classifier.fit(X_train, y_train)\n",
    "\n",
    "# Make predictions\n",
    "y_pred = nb_classifier.predict(X_test)\n",
    "\n",
    "# Evaluate model performance\n",
    "accuracy = accuracy_score(y_test, y_pred)\n",
    "classification_rep = classification_report(y_test, y_pred)\n",
    "\n",
    "# Compute confusion matrix\n",
    "cm = confusion_matrix(y_test, y_pred)\n",
    "labels = [\"AI-generated (0)\", \"Human-written (1)\"]\n",
    "\n",
    "# Plot confusion matrix heatmap\n",
    "plt.figure(figsize=(6, 5))\n",
    "sns.heatmap(cm, annot=True, fmt=\"d\", cmap=\"Blues\", xticklabels=labels, yticklabels=labels)\n",
    "plt.xlabel(\"Predicted Label\")\n",
    "plt.ylabel(\"True Label\")\n",
    "plt.title(\"Confusion Matrix - Naïve Bayes Classification\")\n",
    "plt.show()\n",
    "\n",
    "# Convert classification report to a DataFrame\n",
    "report = classification_report(y_test, y_pred, target_names=[\"AI-generated (0)\", \"Human-written (1)\"], output_dict=True)\n",
    "report_df = pd.DataFrame(report).transpose()\n",
    "\n",
    "# Display results in a formatted table\n",
    "print(confusion_matrix(y_test, y_pred))\n",
    "print(classification_report(y_test, y_pred))"
   ]
  },
  {
   "cell_type": "code",
   "execution_count": null,
   "metadata": {},
   "outputs": [],
   "source": []
  }
 ],
 "metadata": {
  "kernelspec": {
   "display_name": "Python 3 (ipykernel)",
   "language": "python",
   "name": "python3"
  },
  "language_info": {
   "codemirror_mode": {
    "name": "ipython",
    "version": 3
   },
   "file_extension": ".py",
   "mimetype": "text/x-python",
   "name": "python",
   "nbconvert_exporter": "python",
   "pygments_lexer": "ipython3",
   "version": "3.11.8"
  }
 },
 "nbformat": 4,
 "nbformat_minor": 4
}
